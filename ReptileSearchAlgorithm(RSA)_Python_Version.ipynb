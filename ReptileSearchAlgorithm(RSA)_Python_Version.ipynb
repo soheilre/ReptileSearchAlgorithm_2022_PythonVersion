{
  "nbformat": 4,
  "nbformat_minor": 0,
  "metadata": {
    "colab": {
      "provenance": []
    },
    "kernelspec": {
      "name": "python3",
      "display_name": "Python 3"
    },
    "language_info": {
      "name": "python"
    }
  },
  "cells": [
    {
      "cell_type": "code",
      "source": [
        "!pip install ipython-autotime --quiet\n",
        "%load_ext autotime"
      ],
      "metadata": {
        "id": "GpJr70I1t8C8",
        "colab": {
          "base_uri": "https://localhost:8080/"
        },
        "outputId": "29495b1f-127b-4db5-f588-dc3992899dcb"
      },
      "execution_count": 1,
      "outputs": [
        {
          "output_type": "stream",
          "name": "stdout",
          "text": [
            "time: 382 µs (started: 2024-09-20 10:48:08 +00:00)\n"
          ]
        }
      ]
    },
    {
      "cell_type": "code",
      "source": [
        "import numpy as np\n",
        "import pandas as pd\n",
        "import matplotlib.pyplot as plt"
      ],
      "metadata": {
        "id": "i_1oOnnRzM3m",
        "colab": {
          "base_uri": "https://localhost:8080/"
        },
        "outputId": "7cfb33a6-eedd-44f9-b260-b7ba4f351e13"
      },
      "execution_count": 2,
      "outputs": [
        {
          "output_type": "stream",
          "name": "stdout",
          "text": [
            "time: 530 ms (started: 2024-09-20 10:48:08 +00:00)\n"
          ]
        }
      ]
    },
    {
      "cell_type": "code",
      "source": [
        "class RSAOptimizer:\n",
        "    def __init__(self, obj_func, lb, ub, dim, pop_size=30, max_iter=100):\n",
        "        self.obj_func = obj_func  # objective function to be minimized\n",
        "        self.lb = np.array(lb)  # lower bounds of variables\n",
        "        self.ub = np.array(ub)  # Upper bounds of variables\n",
        "        self.dim = dim  # number of variables\n",
        "        self.pop_size = pop_size  # population size\n",
        "        self.max_iter = max_iter  # maximum number of iterations\n",
        "        self.alpha = 0.1  # control parameter 1\n",
        "        self.beta = 0.005  # control parameter 2\n",
        "\n",
        "    def initialize_population(self):\n",
        "        return np.random.uniform(self.lb, self.ub, (self.pop_size, self.dim))\n",
        "\n",
        "    def evaluate_population(self, population):\n",
        "        return np.array([self.obj_func(ind) for ind in population])\n",
        "\n",
        "    def update_ES(self, t):\n",
        "        return 2 * np.random.randint(-1, 2) * (1 - t / self.max_iter)\n",
        "\n",
        "    def update_position(self, population, best_solution, t):\n",
        "        ES = self.update_ES(t)\n",
        "        new_population = np.zeros_like(population)\n",
        "\n",
        "        for i in range(self.pop_size):\n",
        "            for j in range(self.dim):\n",
        "                R = (best_solution[j] - population[np.random.randint(self.pop_size), j]) / (best_solution[j] + np.finfo(float).eps)\n",
        "                P = self.alpha + (population[i, j] - np.mean(population[:, j])) / (best_solution[j] * (self.ub[j] - self.lb[j]) + np.finfo(float).eps)\n",
        "                eta = best_solution[j] * P\n",
        "\n",
        "                #1 high walking\n",
        "                if t <= self.max_iter / 4:\n",
        "                    new_population[i, j] = best_solution[j] - eta * self.beta - R * np.random.rand()\n",
        "                #2  belly walking\n",
        "                elif t <= self.max_iter / 2:\n",
        "                    new_population[i, j] = best_solution[j] * population[np.random.randint(self.pop_size), j] * ES * np.random.rand()\n",
        "                #3 hunting coordination\n",
        "                elif t <= 3 * self.max_iter / 4:\n",
        "                    new_population[i, j] = best_solution[j] * P * np.random.rand()\n",
        "                #4 hunting cooperation\n",
        "                else:\n",
        "                    new_population[i, j] = best_solution[j] - eta * np.finfo(float).eps - R * np.random.rand()\n",
        "\n",
        "        return new_population\n",
        "\n",
        "    def optimize(self):\n",
        "        # main optimization loop\n",
        "        population = self.initialize_population()\n",
        "        fitness = self.evaluate_population(population)\n",
        "        best_idx = np.argmin(fitness)\n",
        "        best_solution = population[best_idx]\n",
        "        best_fitness = fitness[best_idx]\n",
        "\n",
        "        fitness_history = [best_fitness]\n",
        "\n",
        "        for t in range(1, self.max_iter + 1):\n",
        "            new_population = self.update_position(population, best_solution, t)\n",
        "            new_population = np.clip(new_population, self.lb, self.ub)\n",
        "            new_fitness = self.evaluate_population(new_population)\n",
        "\n",
        "            improvements = new_fitness < fitness\n",
        "            population[improvements] = new_population[improvements]\n",
        "            fitness[improvements] = new_fitness[improvements]\n",
        "\n",
        "            best_idx = np.argmin(fitness)\n",
        "            if fitness[best_idx] < best_fitness:\n",
        "                best_solution = population[best_idx]\n",
        "                best_fitness = fitness[best_idx]\n",
        "\n",
        "            fitness_history.append(best_fitness)\n",
        "\n",
        "            if t % 10 == 0:\n",
        "                print(f\"Iteration {t}: Best fitness = {best_fitness}\")\n",
        "\n",
        "        return best_solution, best_fitness, fitness_history"
      ],
      "metadata": {
        "id": "bXu92uvM8NHQ",
        "colab": {
          "base_uri": "https://localhost:8080/"
        },
        "outputId": "3d333dfd-823d-41d4-cffd-3024206466cc"
      },
      "execution_count": 3,
      "outputs": [
        {
          "output_type": "stream",
          "name": "stdout",
          "text": [
            "time: 3.57 ms (started: 2024-09-20 10:48:09 +00:00)\n"
          ]
        }
      ]
    },
    {
      "cell_type": "markdown",
      "source": [
        "### Define Objective Function"
      ],
      "metadata": {
        "id": "Q8X4dI6W0XvO"
      }
    },
    {
      "cell_type": "code",
      "source": [
        "def rastrigin(x):\n",
        "    return 10 * len(x) + np.sum(x**2 - 10 * np.cos(2 * np.pi * x))"
      ],
      "metadata": {
        "id": "u8MEB07l0Z_F",
        "colab": {
          "base_uri": "https://localhost:8080/"
        },
        "outputId": "c14c7162-b800-483e-e39b-033236aaa8c6"
      },
      "execution_count": 4,
      "outputs": [
        {
          "output_type": "stream",
          "name": "stdout",
          "text": [
            "time: 467 µs (started: 2024-09-20 10:48:09 +00:00)\n"
          ]
        }
      ]
    },
    {
      "cell_type": "code",
      "source": [
        "def ackley(x, a=20, b=0.2, c=2*np.pi):\n",
        "    \"\"\"\n",
        "    x: vector of input values\n",
        "    \"\"\"\n",
        "    d = len(x) # dimension of input vector x\n",
        "    sum_sq_term = -a * np.exp(-b * np.sqrt(sum(x*x) / d))\n",
        "    cos_term = -np.exp(sum(np.cos(c*x) / d))\n",
        "    return a + np.exp(1) + sum_sq_term + cos_term\n"
      ],
      "metadata": {
        "id": "7bX0q4yz_zXD",
        "colab": {
          "base_uri": "https://localhost:8080/"
        },
        "outputId": "b9419747-fa78-4a19-ff5e-0958da41ef74"
      },
      "execution_count": 5,
      "outputs": [
        {
          "output_type": "stream",
          "name": "stdout",
          "text": [
            "time: 1.11 ms (started: 2024-09-20 10:48:09 +00:00)\n"
          ]
        }
      ]
    },
    {
      "cell_type": "markdown",
      "source": [
        "### Define Optimizer"
      ],
      "metadata": {
        "id": "Camcxnzh0agS"
      }
    },
    {
      "cell_type": "code",
      "source": [
        "ITERATIONS = 500\n",
        "\n",
        "POPULATION = 32\n",
        "\n",
        "dim = 1000\n",
        "\n",
        "lb = [-5.12] * dim\n",
        "\n",
        "ub = [5.12] * dim"
      ],
      "metadata": {
        "id": "f42abxfK1Jy3",
        "colab": {
          "base_uri": "https://localhost:8080/"
        },
        "outputId": "e302eb2b-eb87-4bb8-f732-fcb1ab605c58"
      },
      "execution_count": 6,
      "outputs": [
        {
          "output_type": "stream",
          "name": "stdout",
          "text": [
            "time: 720 µs (started: 2024-09-20 10:48:09 +00:00)\n"
          ]
        }
      ]
    },
    {
      "cell_type": "code",
      "source": [
        "rastrigin_optimizer = RSAOptimizer(obj_func=rastrigin, lb=lb, ub=ub, dim=dim, pop_size=POPULATION, max_iter=ITERATIONS)\n",
        "rastrigin_best_solution, rastrigin_best_fitness, rastrigin_fitness_history = rastrigin_optimizer.optimize()\n",
        "\n",
        "print(f\"\\nRastrigin Function Results:\")\n",
        "print(f\"Best solution: {rastrigin_best_solution}\")\n",
        "print(f\"Best fitness: {rastrigin_best_fitness}\")"
      ],
      "metadata": {
        "id": "KJufGQl30oG_",
        "colab": {
          "base_uri": "https://localhost:8080/"
        },
        "outputId": "cffe141f-663f-42f7-f031-950214c97e61"
      },
      "execution_count": 7,
      "outputs": [
        {
          "output_type": "stream",
          "name": "stdout",
          "text": [
            "Iteration 10: Best fitness = 17951.093170401222\n",
            "Iteration 20: Best fitness = 17951.093170401222\n",
            "Iteration 30: Best fitness = 17951.093170401222\n",
            "Iteration 40: Best fitness = 17951.093170401222\n",
            "Iteration 50: Best fitness = 17951.093170401222\n",
            "Iteration 60: Best fitness = 17951.093170401222\n",
            "Iteration 70: Best fitness = 17951.093170401222\n",
            "Iteration 80: Best fitness = 17951.093170401222\n",
            "Iteration 90: Best fitness = 17951.093170401222\n",
            "Iteration 100: Best fitness = 17951.093170401222\n",
            "Iteration 110: Best fitness = 17951.093170401222\n",
            "Iteration 120: Best fitness = 17951.093170401222\n",
            "Iteration 130: Best fitness = 0.0\n",
            "Iteration 140: Best fitness = 0.0\n",
            "Iteration 150: Best fitness = 0.0\n",
            "Iteration 160: Best fitness = 0.0\n",
            "Iteration 170: Best fitness = 0.0\n",
            "Iteration 180: Best fitness = 0.0\n",
            "Iteration 190: Best fitness = 0.0\n",
            "Iteration 200: Best fitness = 0.0\n",
            "Iteration 210: Best fitness = 0.0\n",
            "Iteration 220: Best fitness = 0.0\n",
            "Iteration 230: Best fitness = 0.0\n",
            "Iteration 240: Best fitness = 0.0\n",
            "Iteration 250: Best fitness = 0.0\n",
            "Iteration 260: Best fitness = 0.0\n",
            "Iteration 270: Best fitness = 0.0\n",
            "Iteration 280: Best fitness = 0.0\n",
            "Iteration 290: Best fitness = 0.0\n",
            "Iteration 300: Best fitness = 0.0\n",
            "Iteration 310: Best fitness = 0.0\n",
            "Iteration 320: Best fitness = 0.0\n",
            "Iteration 330: Best fitness = 0.0\n",
            "Iteration 340: Best fitness = 0.0\n",
            "Iteration 350: Best fitness = 0.0\n",
            "Iteration 360: Best fitness = 0.0\n",
            "Iteration 370: Best fitness = 0.0\n",
            "Iteration 380: Best fitness = 0.0\n",
            "Iteration 390: Best fitness = 0.0\n",
            "Iteration 400: Best fitness = 0.0\n",
            "Iteration 410: Best fitness = 0.0\n",
            "Iteration 420: Best fitness = 0.0\n",
            "Iteration 430: Best fitness = 0.0\n",
            "Iteration 440: Best fitness = 0.0\n",
            "Iteration 450: Best fitness = 0.0\n",
            "Iteration 460: Best fitness = 0.0\n",
            "Iteration 470: Best fitness = 0.0\n",
            "Iteration 480: Best fitness = 0.0\n",
            "Iteration 490: Best fitness = 0.0\n",
            "Iteration 500: Best fitness = 0.0\n",
            "\n",
            "Rastrigin Function Results:\n",
            "Best solution: [-0.  0.  0.  0.  0. -0.  0.  0.  0.  0.  0.  0. -0. -0. -0.  0. -0.  0.\n",
            "  0. -0.  0. -0. -0.  0.  0.  0.  0. -0.  0.  0.  0.  0.  0. -0.  0. -0.\n",
            "  0.  0.  0.  0.  0.  0. -0.  0. -0. -0. -0. -0. -0.  0.  0. -0.  0.  0.\n",
            "  0.  0.  0. -0. -0. -0.  0. -0.  0.  0. -0.  0. -0. -0.  0. -0. -0.  0.\n",
            " -0.  0.  0. -0. -0. -0.  0. -0.  0. -0.  0. -0.  0. -0. -0.  0.  0.  0.\n",
            " -0.  0.  0.  0.  0.  0. -0.  0.  0.  0. -0.  0. -0.  0.  0.  0.  0. -0.\n",
            " -0. -0. -0. -0.  0.  0.  0.  0. -0. -0. -0. -0. -0. -0.  0. -0. -0.  0.\n",
            " -0.  0.  0. -0. -0. -0.  0.  0. -0.  0.  0.  0. -0. -0.  0. -0. -0. -0.\n",
            "  0. -0.  0.  0.  0. -0.  0. -0. -0.  0. -0.  0. -0.  0.  0.  0.  0. -0.\n",
            "  0.  0. -0.  0. -0. -0. -0.  0.  0.  0.  0.  0. -0. -0.  0. -0. -0.  0.\n",
            " -0.  0. -0.  0. -0. -0.  0. -0.  0.  0. -0. -0.  0.  0.  0. -0.  0.  0.\n",
            "  0.  0.  0.  0.  0.  0. -0. -0. -0.  0.  0. -0. -0.  0.  0. -0. -0. -0.\n",
            "  0.  0.  0.  0. -0.  0.  0.  0.  0. -0.  0.  0. -0.  0. -0.  0. -0. -0.\n",
            "  0.  0.  0.  0.  0. -0. -0. -0.  0.  0.  0. -0. -0. -0. -0. -0. -0.  0.\n",
            " -0. -0.  0.  0. -0. -0. -0. -0. -0. -0.  0. -0. -0.  0. -0.  0.  0. -0.\n",
            " -0. -0.  0. -0.  0.  0. -0. -0. -0.  0. -0. -0.  0. -0. -0. -0. -0. -0.\n",
            " -0.  0. -0.  0. -0.  0. -0. -0. -0. -0.  0. -0.  0. -0. -0. -0.  0.  0.\n",
            " -0.  0.  0. -0.  0. -0.  0.  0. -0.  0. -0.  0.  0. -0.  0.  0.  0.  0.\n",
            "  0. -0. -0. -0.  0. -0. -0. -0. -0.  0. -0. -0.  0.  0.  0. -0. -0. -0.\n",
            " -0.  0. -0.  0. -0.  0. -0. -0.  0. -0. -0. -0.  0. -0. -0.  0.  0.  0.\n",
            "  0.  0.  0. -0. -0. -0. -0.  0. -0. -0.  0.  0.  0. -0.  0. -0.  0. -0.\n",
            " -0.  0.  0. -0.  0. -0.  0.  0.  0.  0. -0. -0.  0.  0. -0.  0. -0. -0.\n",
            " -0. -0.  0. -0.  0.  0.  0.  0.  0.  0.  0.  0. -0.  0.  0.  0. -0. -0.\n",
            " -0. -0.  0.  0. -0. -0. -0.  0.  0. -0. -0.  0. -0.  0.  0. -0.  0. -0.\n",
            "  0. -0.  0. -0.  0. -0. -0.  0. -0.  0. -0. -0. -0. -0. -0. -0. -0. -0.\n",
            " -0. -0. -0.  0. -0.  0.  0.  0.  0. -0. -0. -0. -0.  0. -0.  0. -0.  0.\n",
            "  0.  0.  0. -0.  0.  0. -0.  0. -0.  0.  0.  0. -0.  0.  0. -0. -0.  0.\n",
            "  0. -0.  0.  0.  0. -0. -0.  0.  0.  0.  0. -0. -0. -0.  0.  0. -0.  0.\n",
            "  0.  0.  0.  0. -0.  0.  0.  0. -0. -0.  0. -0.  0.  0.  0. -0.  0.  0.\n",
            "  0.  0. -0.  0.  0.  0.  0. -0.  0.  0. -0.  0.  0. -0. -0. -0.  0. -0.\n",
            " -0.  0. -0. -0.  0.  0. -0.  0.  0. -0. -0. -0. -0. -0. -0.  0.  0. -0.\n",
            " -0. -0. -0. -0. -0. -0. -0.  0.  0. -0. -0.  0.  0.  0. -0.  0. -0.  0.\n",
            " -0.  0.  0.  0. -0.  0. -0.  0.  0.  0. -0. -0. -0.  0.  0. -0. -0.  0.\n",
            " -0. -0.  0. -0.  0.  0. -0. -0. -0. -0.  0. -0.  0. -0. -0. -0. -0.  0.\n",
            " -0.  0.  0.  0. -0.  0. -0.  0.  0. -0. -0. -0.  0.  0.  0. -0. -0. -0.\n",
            "  0. -0.  0.  0. -0.  0. -0.  0.  0.  0.  0.  0. -0. -0. -0. -0. -0.  0.\n",
            "  0. -0. -0.  0. -0.  0.  0.  0.  0. -0.  0. -0.  0.  0. -0.  0. -0. -0.\n",
            "  0. -0. -0.  0. -0.  0. -0.  0. -0. -0. -0.  0.  0. -0.  0.  0. -0. -0.\n",
            " -0.  0. -0. -0. -0. -0. -0. -0. -0. -0. -0. -0.  0. -0.  0.  0.  0. -0.\n",
            "  0.  0. -0. -0.  0. -0. -0. -0.  0.  0. -0.  0. -0.  0. -0. -0.  0. -0.\n",
            "  0.  0. -0.  0.  0. -0.  0.  0.  0. -0.  0.  0. -0.  0.  0. -0. -0. -0.\n",
            " -0. -0.  0.  0.  0. -0.  0.  0. -0. -0.  0. -0. -0.  0. -0. -0.  0. -0.\n",
            " -0.  0.  0. -0.  0.  0. -0.  0. -0.  0.  0.  0. -0.  0. -0. -0. -0. -0.\n",
            "  0.  0. -0.  0.  0.  0.  0. -0. -0.  0.  0. -0.  0. -0.  0. -0.  0.  0.\n",
            " -0.  0. -0.  0. -0.  0.  0. -0. -0. -0.  0.  0. -0.  0.  0.  0. -0. -0.\n",
            "  0.  0. -0. -0. -0. -0.  0.  0.  0.  0. -0. -0.  0.  0.  0.  0.  0. -0.\n",
            " -0.  0.  0. -0.  0.  0. -0.  0. -0. -0.  0.  0. -0. -0. -0. -0. -0.  0.\n",
            "  0. -0. -0. -0. -0.  0. -0.  0.  0.  0.  0.  0.  0. -0. -0. -0.  0.  0.\n",
            "  0.  0. -0.  0.  0. -0.  0. -0.  0.  0. -0.  0.  0.  0. -0.  0.  0. -0.\n",
            " -0.  0.  0.  0. -0.  0.  0. -0. -0. -0.  0.  0.  0. -0.  0. -0. -0. -0.\n",
            " -0. -0. -0. -0. -0. -0. -0. -0.  0. -0. -0.  0. -0. -0. -0. -0. -0.  0.\n",
            "  0.  0. -0.  0. -0.  0.  0. -0.  0.  0. -0. -0. -0. -0.  0. -0. -0. -0.\n",
            " -0.  0. -0.  0.  0.  0.  0. -0. -0. -0.  0. -0. -0.  0. -0. -0.  0. -0.\n",
            "  0.  0. -0. -0.  0.  0.  0.  0.  0.  0. -0.  0. -0. -0.  0.  0. -0. -0.\n",
            "  0.  0. -0.  0.  0. -0.  0.  0. -0. -0. -0. -0. -0. -0.  0. -0. -0. -0.\n",
            "  0. -0. -0.  0. -0.  0. -0. -0.  0. -0.]\n",
            "Best fitness: 0.0\n",
            "time: 5min 32s (started: 2024-09-20 10:48:09 +00:00)\n"
          ]
        }
      ]
    },
    {
      "cell_type": "markdown",
      "source": [
        "#### Convergence Plot"
      ],
      "metadata": {
        "id": "LrDCyTSpAINz"
      }
    },
    {
      "cell_type": "code",
      "source": [
        "plt.figure(figsize=(12, 6))\n",
        "plt.plot(rastrigin_fitness_history, label='Rastrigin')\n",
        "plt.xlabel('Iteration')\n",
        "plt.ylabel('Best Fitness')\n",
        "plt.title('Convergence Curves')\n",
        "plt.legend()\n",
        "plt.yscale('log')\n",
        "plt.grid(True)\n",
        "plt.show()"
      ],
      "metadata": {
        "id": "M6rR4wsPAE-d",
        "colab": {
          "base_uri": "https://localhost:8080/",
          "height": 581
        },
        "outputId": "1d7e981c-0df7-4c99-fd2b-40d60cac4894"
      },
      "execution_count": 8,
      "outputs": [
        {
          "output_type": "display_data",
          "data": {
            "text/plain": [
              "<Figure size 1200x600 with 1 Axes>"
            ],
            "image/png": "[encoded data removed]"
          },
          "metadata": {}
        },
        {
          "output_type": "stream",
          "name": "stdout",
          "text": [
            "time: 511 ms (started: 2024-09-20 10:53:41 +00:00)\n"
          ]
        }
      ]
    }
  ]
}